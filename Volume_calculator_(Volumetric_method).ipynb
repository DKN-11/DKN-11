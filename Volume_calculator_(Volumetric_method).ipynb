{
  "nbformat": 4,
  "nbformat_minor": 0,
  "metadata": {
    "colab": {
      "provenance": [],
      "authorship_tag": "ABX9TyMOcZplHuNGfY4ILg7TTdQQ",
      "include_colab_link": true
    },
    "kernelspec": {
      "name": "python3",
      "display_name": "Python 3"
    },
    "language_info": {
      "name": "python"
    }
  },
  "cells": [
    {
      "cell_type": "markdown",
      "metadata": {
        "id": "view-in-github",
        "colab_type": "text"
      },
      "source": [
        "<a href=\"https://colab.research.google.com/github/DKN-11/DKN-11/blob/main/Volume_calculator_(Volumetric_method).ipynb\" target=\"_parent\"><img src=\"https://colab.research.google.com/assets/colab-badge.svg\" alt=\"Open In Colab\"/></a>"
      ]
    },
    {
      "cell_type": "markdown",
      "source": [
        "## **Volume calculator**"
      ],
      "metadata": {
        "id": "G8zBCNCKkKuP"
      }
    },
    {
      "cell_type": "code",
      "source": [
        "pip install streamlit"
      ],
      "metadata": {
        "colab": {
          "base_uri": "https://localhost:8080/"
        },
        "id": "baS2OgfsFhNw",
        "outputId": "9d49c300-fcb4-48b1-9111-3d788852852a"
      },
      "execution_count": 1,
      "outputs": [
        {
          "output_type": "stream",
          "name": "stdout",
          "text": [
            "Collecting streamlit\n",
            "  Downloading streamlit-1.45.0-py3-none-any.whl.metadata (8.9 kB)\n",
            "Requirement already satisfied: altair<6,>=4.0 in /usr/local/lib/python3.11/dist-packages (from streamlit) (5.5.0)\n",
            "Requirement already satisfied: blinker<2,>=1.5.0 in /usr/local/lib/python3.11/dist-packages (from streamlit) (1.9.0)\n",
            "Requirement already satisfied: cachetools<6,>=4.0 in /usr/local/lib/python3.11/dist-packages (from streamlit) (5.5.2)\n",
            "Requirement already satisfied: click<9,>=7.0 in /usr/local/lib/python3.11/dist-packages (from streamlit) (8.1.8)\n",
            "Requirement already satisfied: numpy<3,>=1.23 in /usr/local/lib/python3.11/dist-packages (from streamlit) (2.0.2)\n",
            "Requirement already satisfied: packaging<25,>=20 in /usr/local/lib/python3.11/dist-packages (from streamlit) (24.2)\n",
            "Requirement already satisfied: pandas<3,>=1.4.0 in /usr/local/lib/python3.11/dist-packages (from streamlit) (2.2.2)\n",
            "Requirement already satisfied: pillow<12,>=7.1.0 in /usr/local/lib/python3.11/dist-packages (from streamlit) (11.2.1)\n",
            "Requirement already satisfied: protobuf<7,>=3.20 in /usr/local/lib/python3.11/dist-packages (from streamlit) (5.29.4)\n",
            "Requirement already satisfied: pyarrow>=7.0 in /usr/local/lib/python3.11/dist-packages (from streamlit) (18.1.0)\n",
            "Requirement already satisfied: requests<3,>=2.27 in /usr/local/lib/python3.11/dist-packages (from streamlit) (2.32.3)\n",
            "Requirement already satisfied: tenacity<10,>=8.1.0 in /usr/local/lib/python3.11/dist-packages (from streamlit) (9.1.2)\n",
            "Requirement already satisfied: toml<2,>=0.10.1 in /usr/local/lib/python3.11/dist-packages (from streamlit) (0.10.2)\n",
            "Requirement already satisfied: typing-extensions<5,>=4.4.0 in /usr/local/lib/python3.11/dist-packages (from streamlit) (4.13.2)\n",
            "Collecting watchdog<7,>=2.1.5 (from streamlit)\n",
            "  Downloading watchdog-6.0.0-py3-none-manylinux2014_x86_64.whl.metadata (44 kB)\n",
            "\u001b[2K     \u001b[90m━━━━━━━━━━━━━━━━━━━━━━━━━━━━━━━━━━━━━━━━\u001b[0m \u001b[32m44.3/44.3 kB\u001b[0m \u001b[31m1.5 MB/s\u001b[0m eta \u001b[36m0:00:00\u001b[0m\n",
            "\u001b[?25hRequirement already satisfied: gitpython!=3.1.19,<4,>=3.0.7 in /usr/local/lib/python3.11/dist-packages (from streamlit) (3.1.44)\n",
            "Collecting pydeck<1,>=0.8.0b4 (from streamlit)\n",
            "  Downloading pydeck-0.9.1-py2.py3-none-any.whl.metadata (4.1 kB)\n",
            "Requirement already satisfied: tornado<7,>=6.0.3 in /usr/local/lib/python3.11/dist-packages (from streamlit) (6.4.2)\n",
            "Requirement already satisfied: jinja2 in /usr/local/lib/python3.11/dist-packages (from altair<6,>=4.0->streamlit) (3.1.6)\n",
            "Requirement already satisfied: jsonschema>=3.0 in /usr/local/lib/python3.11/dist-packages (from altair<6,>=4.0->streamlit) (4.23.0)\n",
            "Requirement already satisfied: narwhals>=1.14.2 in /usr/local/lib/python3.11/dist-packages (from altair<6,>=4.0->streamlit) (1.37.1)\n",
            "Requirement already satisfied: gitdb<5,>=4.0.1 in /usr/local/lib/python3.11/dist-packages (from gitpython!=3.1.19,<4,>=3.0.7->streamlit) (4.0.12)\n",
            "Requirement already satisfied: python-dateutil>=2.8.2 in /usr/local/lib/python3.11/dist-packages (from pandas<3,>=1.4.0->streamlit) (2.9.0.post0)\n",
            "Requirement already satisfied: pytz>=2020.1 in /usr/local/lib/python3.11/dist-packages (from pandas<3,>=1.4.0->streamlit) (2025.2)\n",
            "Requirement already satisfied: tzdata>=2022.7 in /usr/local/lib/python3.11/dist-packages (from pandas<3,>=1.4.0->streamlit) (2025.2)\n",
            "Requirement already satisfied: charset-normalizer<4,>=2 in /usr/local/lib/python3.11/dist-packages (from requests<3,>=2.27->streamlit) (3.4.1)\n",
            "Requirement already satisfied: idna<4,>=2.5 in /usr/local/lib/python3.11/dist-packages (from requests<3,>=2.27->streamlit) (3.10)\n",
            "Requirement already satisfied: urllib3<3,>=1.21.1 in /usr/local/lib/python3.11/dist-packages (from requests<3,>=2.27->streamlit) (2.4.0)\n",
            "Requirement already satisfied: certifi>=2017.4.17 in /usr/local/lib/python3.11/dist-packages (from requests<3,>=2.27->streamlit) (2025.4.26)\n",
            "Requirement already satisfied: smmap<6,>=3.0.1 in /usr/local/lib/python3.11/dist-packages (from gitdb<5,>=4.0.1->gitpython!=3.1.19,<4,>=3.0.7->streamlit) (5.0.2)\n",
            "Requirement already satisfied: MarkupSafe>=2.0 in /usr/local/lib/python3.11/dist-packages (from jinja2->altair<6,>=4.0->streamlit) (3.0.2)\n",
            "Requirement already satisfied: attrs>=22.2.0 in /usr/local/lib/python3.11/dist-packages (from jsonschema>=3.0->altair<6,>=4.0->streamlit) (25.3.0)\n",
            "Requirement already satisfied: jsonschema-specifications>=2023.03.6 in /usr/local/lib/python3.11/dist-packages (from jsonschema>=3.0->altair<6,>=4.0->streamlit) (2025.4.1)\n",
            "Requirement already satisfied: referencing>=0.28.4 in /usr/local/lib/python3.11/dist-packages (from jsonschema>=3.0->altair<6,>=4.0->streamlit) (0.36.2)\n",
            "Requirement already satisfied: rpds-py>=0.7.1 in /usr/local/lib/python3.11/dist-packages (from jsonschema>=3.0->altair<6,>=4.0->streamlit) (0.24.0)\n",
            "Requirement already satisfied: six>=1.5 in /usr/local/lib/python3.11/dist-packages (from python-dateutil>=2.8.2->pandas<3,>=1.4.0->streamlit) (1.17.0)\n",
            "Downloading streamlit-1.45.0-py3-none-any.whl (9.9 MB)\n",
            "\u001b[2K   \u001b[90m━━━━━━━━━━━━━━━━━━━━━━━━━━━━━━━━━━━━━━━━\u001b[0m \u001b[32m9.9/9.9 MB\u001b[0m \u001b[31m32.2 MB/s\u001b[0m eta \u001b[36m0:00:00\u001b[0m\n",
            "\u001b[?25hDownloading pydeck-0.9.1-py2.py3-none-any.whl (6.9 MB)\n",
            "\u001b[2K   \u001b[90m━━━━━━━━━━━━━━━━━━━━━━━━━━━━━━━━━━━━━━━━\u001b[0m \u001b[32m6.9/6.9 MB\u001b[0m \u001b[31m31.2 MB/s\u001b[0m eta \u001b[36m0:00:00\u001b[0m\n",
            "\u001b[?25hDownloading watchdog-6.0.0-py3-none-manylinux2014_x86_64.whl (79 kB)\n",
            "\u001b[2K   \u001b[90m━━━━━━━━━━━━━━━━━━━━━━━━━━━━━━━━━━━━━━━━\u001b[0m \u001b[32m79.1/79.1 kB\u001b[0m \u001b[31m4.7 MB/s\u001b[0m eta \u001b[36m0:00:00\u001b[0m\n",
            "\u001b[?25hInstalling collected packages: watchdog, pydeck, streamlit\n",
            "Successfully installed pydeck-0.9.1 streamlit-1.45.0 watchdog-6.0.0\n"
          ]
        }
      ]
    },
    {
      "cell_type": "code",
      "source": [
        "pip install matplotlib"
      ],
      "metadata": {
        "colab": {
          "base_uri": "https://localhost:8080/"
        },
        "id": "zEWEQfuRPsqH",
        "outputId": "911e54a8-7e3f-4a8d-fd72-96ce93c67248"
      },
      "execution_count": 2,
      "outputs": [
        {
          "output_type": "stream",
          "name": "stdout",
          "text": [
            "Requirement already satisfied: matplotlib in /usr/local/lib/python3.11/dist-packages (3.10.0)\n",
            "Requirement already satisfied: contourpy>=1.0.1 in /usr/local/lib/python3.11/dist-packages (from matplotlib) (1.3.2)\n",
            "Requirement already satisfied: cycler>=0.10 in /usr/local/lib/python3.11/dist-packages (from matplotlib) (0.12.1)\n",
            "Requirement already satisfied: fonttools>=4.22.0 in /usr/local/lib/python3.11/dist-packages (from matplotlib) (4.57.0)\n",
            "Requirement already satisfied: kiwisolver>=1.3.1 in /usr/local/lib/python3.11/dist-packages (from matplotlib) (1.4.8)\n",
            "Requirement already satisfied: numpy>=1.23 in /usr/local/lib/python3.11/dist-packages (from matplotlib) (2.0.2)\n",
            "Requirement already satisfied: packaging>=20.0 in /usr/local/lib/python3.11/dist-packages (from matplotlib) (24.2)\n",
            "Requirement already satisfied: pillow>=8 in /usr/local/lib/python3.11/dist-packages (from matplotlib) (11.2.1)\n",
            "Requirement already satisfied: pyparsing>=2.3.1 in /usr/local/lib/python3.11/dist-packages (from matplotlib) (3.2.3)\n",
            "Requirement already satisfied: python-dateutil>=2.7 in /usr/local/lib/python3.11/dist-packages (from matplotlib) (2.9.0.post0)\n",
            "Requirement already satisfied: six>=1.5 in /usr/local/lib/python3.11/dist-packages (from python-dateutil>=2.7->matplotlib) (1.17.0)\n"
          ]
        }
      ]
    },
    {
      "cell_type": "code",
      "source": [
        "%%writefile Volumetric_method1.py\n",
        "import streamlit as st\n",
        "import pandas as pd\n",
        "import matplotlib.pyplot as plt\n",
        "\n",
        "st.title(\"Hydrocarbon Volume Calculator\")\n",
        "st.subheader(\"Calculate OOIP or OGIP with Optional Recovery Estimation\")\n",
        "\n",
        "# Common reservoir inputs using sliders\n",
        "st.markdown(\"### Reservoir Properties\")\n",
        "A = st.slider(\"Reservoir Area (acres)\", min_value=10.0, max_value=10000.0, step=10.0)\n",
        "h = st.slider(\"Net Pay Thickness (ft)\", min_value=5.0, max_value=300.0, step=1.0)\n",
        "phi = st.slider(\"Porosity (fraction)\", min_value=0.00, max_value=0.6, step=0.01)\n",
        "Sw = st.slider(\"Water Saturation (fraction)\", min_value=0.0, max_value=1.0, step=0.01)\n",
        "\n",
        "# Constants\n",
        "acre_to_barrels = 7758\n",
        "acre_to_cuft = 43560\n",
        "\n",
        "# Pore Volume and HCPV\n",
        "PV_acreft = A * h * phi\n",
        "\n",
        "# Select fluid type\n",
        "fluid_type = st.radio(\"Select the type of hydrocarbon:\", [\"Oil\", \"Gas\"])\n",
        "\n",
        "st.markdown(\"---\")\n",
        "\n",
        "if fluid_type == \"Oil\":\n",
        "    st.markdown(\"### Oil Properties\")\n",
        "    Bo = st.slider(\"Oil Formation Volume Factor Bₒ (rb/stb)\", min_value=1.0, max_value=2.0, step=0.01)\n",
        "\n",
        "    # Optional Recovery Factor\n",
        "    show_rf = st.checkbox(\"I want to estimate recoverable oil reserves\")\n",
        "\n",
        "    if show_rf:\n",
        "        RF_oil = st.slider(\"Recovery Factor (fraction)\", min_value=0.05, max_value=0.6, step=0.01)\n",
        "\n",
        "    # OOIP\n",
        "    PV_bbl = PV_acreft * acre_to_barrels/1000 #Mbbls\n",
        "    HCPV = PV_bbl * (1 - Sw) #Mbbls\n",
        "    OOIP = HCPV / Bo #MSTB\n",
        "\n",
        "    # Display Results\n",
        "    st.success(\"**Oil Calculation Results:**\")\n",
        "    st.write(f\"**Pore Volume:** {PV_acreft:.2f} acre-ft | {PV_bbl:,.0f} Mbbl\")\n",
        "    st.write(f\"**Hydrocarbon Pore Volume:** {HCPV:,.0f} Mbbl\")\n",
        "    st.write(f\"**OOIP:** {OOIP:,.0f} MSTB\")\n",
        "\n",
        "    # Conditional recoverable calculation and visualization\n",
        "    if show_rf:\n",
        "        recoverable_oil = OOIP * RF_oil\n",
        "        non_recoverable_oil = OOIP - recoverable_oil\n",
        "        st.write(f\"**Recoverable Oil Reserves:** {recoverable_oil:,.0f} MSTB\")\n",
        "        st.write(f\"**Non-recoverable Oil Reserves:** {non_recoverable_oil:,.0f} MSTB\")\n",
        "\n",
        "        #Column chart 1\n",
        "        chart_data_1 = pd.DataFrame({\n",
        "            'Volume (Mbbl)': [PV_bbl, HCPV]\n",
        "        }, index=['Pore Volume', 'Hydrocarbon PV'])\n",
        "        fig, ax = plt.subplots()\n",
        "        colors = {'Pore Volume': 'orange', 'Hydrocarbon PV': 'brown'}  # Define colors\n",
        "        for index, value in enumerate(chart_data_1['Volume (Mbbl)']):\n",
        "          ax.bar(chart_data_1.index[index], value, color=colors[chart_data_1.index[index]])\n",
        "          ax.text(index, value, str(round(value, 2)), ha='center', va='bottom') # Add data labels\n",
        "\n",
        "        ax.set_ylabel(\"Volume (Mbbl)\")  # Y-axis label\n",
        "        st.pyplot(fig)\n",
        "\n",
        "\n",
        "        #st.bar_chart(chart_data_2)\n",
        "        # Column Chart 2 (Comparison of hydrocarbons)\n",
        "        chart_data_2 = pd.DataFrame({\n",
        "            'Volume (MSTB)': [recoverable_oil, non_recoverable_oil]\n",
        "        }, index=['Recoverable Oil', 'Non-Recoverable Oil'])\n",
        "        fig, ax = plt.subplots()\n",
        "        colors = {'Recoverable Oil': 'green', 'Non-Recoverable Oil': 'red'}  # Define colors\n",
        "        for index, value in enumerate(chart_data_2['Volume (MSTB)']):\n",
        "          ax.bar(chart_data_2.index[index], value, color=colors[chart_data_2.index[index]])\n",
        "          ax.text(index, value, str(round(value, 2)), ha='center', va='bottom') # Add data labels\n",
        "\n",
        "        ax.set_ylabel(\"Volume (Mbbl)\")  # Y-axis label\n",
        "        st.pyplot(fig)\n",
        "\n",
        "\n",
        "        #st.bar_chart(chart_data_1)\n",
        "\n",
        "\n",
        "\n",
        "\n",
        "        # Pie Chart\n",
        "        labels = ['Recoverable Oil', 'Non-Recoverable Oil']\n",
        "        sizes = [recoverable_oil, non_recoverable_oil]\n",
        "        fig, ax = plt.subplots()\n",
        "        ax.pie(sizes, labels=labels, autopct='%1.1f%%', startangle=90, colors=['#66b3ff','#ff6666'])\n",
        "        ax.axis('equal')  # Equal aspect ratio ensures that pie is drawn as a circle.\n",
        "        st.pyplot(fig)\n",
        "\n",
        "    else:\n",
        "        chart_data = pd.DataFrame({\n",
        "            'Volume (Mbbl)': [PV_bbl, HCPV]\n",
        "        }, index=['Pore Volume', 'Hydrocarbon PV'])\n",
        "        fig, ax = plt.subplots()\n",
        "        colors = {'Pore Volume': 'orange', 'Hydrocarbon PV': 'brown'}  # Define colors\n",
        "        for index, value in enumerate(chart_data['Volume (Mbbl)']):\n",
        "          ax.bar(chart_data.index[index], value, color=colors[chart_data.index[index]])\n",
        "          ax.text(index, value, str(round(value, 2)), ha='center', va='bottom') # Add data labels\n",
        "        ax.set_ylabel(\"Volume (Mbbl)\")  # Y-axis label\n",
        "        st.pyplot(fig)\n",
        "\n",
        "        #st.bar_chart(chart_data)\n",
        "\n",
        "elif fluid_type == \"Gas\":\n",
        "    st.markdown(\"### Gas Properties\")\n",
        "    Bg = st.number_input(\"Gas Formation Volume Factor B₉ (rcf/scf)\", min_value=0.001, max_value=0.01, step=0.0001)\n",
        "\n",
        "    # Optional Recovery Factor\n",
        "    show_rf = st.checkbox(\"I want to estimate recoverable gas reserves\")\n",
        "\n",
        "    if show_rf:\n",
        "        RF_gas = st.slider(\"Recovery Factor (fraction)\", min_value=0.3, max_value=0.95, step=0.01)\n",
        "\n",
        "    # OGIP\n",
        "    PV_cuft=PV_acreft*acre_to_cuft/1000000\n",
        "    HCPV_cuft = PV_cuft * (1 - Sw)\n",
        "    OGIP = HCPV_cuft / Bg\n",
        "\n",
        "    # Display Results\n",
        "    st.success(\"**Gas Calculation Results:**\")\n",
        "    st.write(f\"**Pore Volume:** {PV_acreft:.2f} acre-ft\")\n",
        "    st.write(f\"**Hydrocarbon Pore Volume:** {HCPV_cuft:,.0f} MMcu ft\")\n",
        "    st.write(f\"**OGIP:** {OGIP:,.0f} MMSCF\")\n",
        "\n",
        "    # Conditional recoverable calculation and visualization\n",
        "    if show_rf:\n",
        "        recoverable_gas = OGIP * RF_gas\n",
        "        non_recoverable_gas = OGIP - recoverable_gas\n",
        "        st.write(f\"**Recoverable Gas Reserves:** {recoverable_gas:,.0f} MMSCF\")\n",
        "        st.write(f\"**Non-recoverable Gas Reserves:** {non_recoverable_gas:,.0f} MMSCF\")\n",
        "\n",
        "        #Column chart 1\n",
        "        chart_data_1 = pd.DataFrame({\n",
        "            'Volume (MMCF)': [PV_cuft, HCPV_cuft]\n",
        "        }, index=['Pore Volume', 'Hydrocarbon PV'])\n",
        "        fig, ax = plt.subplots()\n",
        "        colors = {'Pore Volume': 'orange', 'Hydrocarbon PV': 'brown'}  # Define colors\n",
        "        for index, value in enumerate(chart_data_1['Volume (MMCF)']):\n",
        "          ax.bar(chart_data_1.index[index], value, color=colors[chart_data_1.index[index]])\n",
        "          ax.text(index, value, str(round(value, 2)), ha='center', va='bottom') # Add data labels\n",
        "        ax.set_ylabel(\"Volume (MMCF)\")  # Y-axis label\n",
        "        st.pyplot(fig)\n",
        "\n",
        "        #st.bar_chart(chart_data_1)\n",
        "\n",
        "        # Column Chart 2\n",
        "        chart_data_2 = pd.DataFrame({\n",
        "            'Volume (MMSCF)': [recoverable_gas, non_recoverable_gas]\n",
        "        }, index=['Recoverable Gas', 'Non-Recoverable Gas'])\n",
        "        fig, ax = plt.subplots()\n",
        "        colors = {'Recoverable Gas': 'green', 'Non-Recoverable Gas': 'red'}  # Define colors\n",
        "        for index, value in enumerate(chart_data_2['Volume (MMSCF)']):\n",
        "          ax.bar(chart_data_2.index[index], value, color=colors[chart_data_2.index[index]])\n",
        "          ax.text(index, value, str(round(value, 2)), ha='center', va='bottom') # Add data labels\n",
        "        ax.set_ylabel(\"Volume (MMCF)\")  # Y-axis label\n",
        "        st.pyplot(fig)\n",
        "\n",
        "        #st.bar_chart(chart_data_2)\n",
        "\n",
        "\n",
        "        # Pie Chart\n",
        "        labels = ['Recoverable Gas', 'Non-Recoverable Gas']\n",
        "        sizes = [recoverable_gas, non_recoverable_gas]\n",
        "        fig, ax = plt.subplots()\n",
        "        ax.pie(sizes, labels=labels, autopct='%1.1f%%', startangle=90, colors=['#66b3ff','#ff6666'])\n",
        "        ax.axis('equal')  # Equal aspect ratio ensures that pie is drawn as a circle.\n",
        "        st.pyplot(fig)\n",
        "\n",
        "    else:\n",
        "        chart_data = pd.DataFrame({\n",
        "            'Volume (MMCF)': [PV_cuft, HCPV_cuft]\n",
        "        }, index=['Pore Volume', 'Hydrocarbon PV'])\n",
        "        fig, ax = plt.subplots()\n",
        "        colors = {'Pore Volume': 'orange', 'Hydrocarbon PV': 'brown'}  # Define colors\n",
        "        for index, value in enumerate(chart_data['Volume (MMCF)']):\n",
        "          ax.bar(chart_data.index[index], value, color=colors[chart_data.index[index]])\n",
        "          ax.text(index, value, str(round(value, 2)), ha='center', va='bottom') # Add data labels\n",
        "        ax.set_ylabel(\"Volume (bbl)\")  # Y-axis label\n",
        "        st.pyplot(fig)\n",
        "\n",
        "        #st.bar_chart(chart_data)\n"
      ],
      "metadata": {
        "colab": {
          "base_uri": "https://localhost:8080/"
        },
        "id": "II5oCyzhHcfB",
        "outputId": "051bdf00-ecf5-4eff-cea0-ffac30f3a6ef"
      },
      "execution_count": 3,
      "outputs": [
        {
          "output_type": "stream",
          "name": "stdout",
          "text": [
            "Writing Volumetric_method1.py\n"
          ]
        }
      ]
    },
    {
      "cell_type": "code",
      "source": [
        "import subprocess\n",
        "\n",
        "# List of libraries you know you've used in your Streamlit app\n",
        "used_libraries = [\n",
        "    \"streamlit\",\n",
        "    \"matplotlib\",\n",
        "    \"pandas\",\n",
        "    \"numpy\",\n",
        "    \"plotly\",\n",
        "    \"scipy\"\n",
        "]\n",
        "\n",
        "def generate_requirements():\n",
        "    try:\n",
        "        # Run pip show for each library to get their version\n",
        "        requirements = []\n",
        "        for lib in used_libraries:\n",
        "            result = subprocess.run([\"pip\", \"show\", lib], stdout=subprocess.PIPE, stderr=subprocess.PIPE, text=True)\n",
        "            if result.returncode == 0:\n",
        "                # Extract the version from the output\n",
        "                version_line = [line for line in result.stdout.splitlines() if line.startswith(\"Version\")]\n",
        "                if version_line:\n",
        "                    version = version_line[0].split(\":\")[1].strip()\n",
        "                    requirements.append(f\"{lib}=={version}\")\n",
        "                else:\n",
        "                    print(f\"Could not find version for {lib}\")\n",
        "            else:\n",
        "                print(f\"{lib} is not installed in the current environment.\")\n",
        "\n",
        "        # Write the libraries and their versions to the requirements.txt\n",
        "        with open(\"requirements.txt\", \"w\") as f:\n",
        "            for req in requirements:\n",
        "                f.write(req + \"\\n\")\n",
        "\n",
        "        print(\"requirements.txt has been generated successfully.\")\n",
        "\n",
        "    except Exception as e:\n",
        "        print(f\"An error occurred: {e}\")\n",
        "\n",
        "# Call the function to generate requirements.txt\n",
        "generate_requirements()\n"
      ],
      "metadata": {
        "colab": {
          "base_uri": "https://localhost:8080/"
        },
        "id": "nKLQ6-oINR6t",
        "outputId": "1af523cf-a77f-427e-9885-f7a3921a1ec5"
      },
      "execution_count": 4,
      "outputs": [
        {
          "output_type": "stream",
          "name": "stdout",
          "text": [
            "requirements.txt has been generated successfully.\n"
          ]
        }
      ]
    },
    {
      "cell_type": "code",
      "execution_count": null,
      "metadata": {
        "id": "naJNPXqckH4u"
      },
      "outputs": [],
      "source": []
    }
  ]
}